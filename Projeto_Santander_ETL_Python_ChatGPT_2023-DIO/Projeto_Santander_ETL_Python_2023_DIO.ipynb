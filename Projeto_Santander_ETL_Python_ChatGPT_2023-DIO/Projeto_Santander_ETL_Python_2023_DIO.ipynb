{
  "cells": [
    {
      "cell_type": "markdown",
      "metadata": {
        "id": "BPJQsTCULaC-"
      },
      "source": [
        "# Santander Dev Week 2023 (ETL com Python)"
      ]
    },
    {
      "cell_type": "markdown",
      "metadata": {
        "id": "k5fA5OrXt1a3"
      },
      "source": [
        "**Contexto:** Você é um cientista de dados no Santander e recebeu a tarefa de envolver seus clientes de maneira mais personalizada. Seu objetivo é usar o poder da IA Generativa para criar mensagens de marketing personalizadas que serão entregues a cada cliente.\n",
        "\n",
        "**Condições do Problema:**\n",
        "\n",
        "1. Você recebeu uma planilha simples, em formato CSV ('SDW2023.csv'), com uma lista de IDs de usuário do banco:\n",
        "  ```\n",
        "  UserID\n",
        "  1\n",
        "  2\n",
        "  3\n",
        "  4\n",
        "  5\n",
        "  ```\n",
        "2. Seu trabalho é consumir o endpoint `GET https://sdw-2023-prd.up.railway.app/users/{id}` (API da Santander Dev Week 2023) para obter os dados de cada cliente.\n",
        "3. Depois de obter os dados dos clientes, você vai usar a API do ChatGPT (OpenAI) para gerar uma mensagem de marketing personalizada para cada cliente. Essa mensagem deve enfatizar a importância dos investimentos.\n",
        "4. Uma vez que a mensagem para cada cliente esteja pronta, você vai enviar essas informações de volta para a API, atualizando a lista de \"news\" de cada usuário usando o endpoint `PUT https://sdw-2023-prd.up.railway.app/users/{id}`.\n",
        "\n"
      ]
    },
    {
      "cell_type": "code",
      "execution_count": null,
      "metadata": {
        "id": "FKqLC_CWoYqR"
      },
      "outputs": [],
      "source": [
        "# Utilize sua própria URL se quiser ;)\n",
        "# Repositório da API: https://github.com/digitalinnovationone/santander-dev-week-2023-api\n",
        "sdw2023_api_url = 'https://sdw-2023-prd.up.railway.app'"
      ]
    },
    {
      "cell_type": "markdown",
      "source": [
        "Preparação da planilha de usuários usando a API POST"
      ],
      "metadata": {
        "id": "26HEhwBnjGPC"
      }
    },
    {
      "cell_type": "code",
      "source": [
        "# acessa a API disponibilizada no Swagger: https://sdw-2023-prd.up.railway.app/swagger-ui.html\n",
        "# no método POST é possível criar usuários - na minha aplicação, criei os usuários \"Dory\", \"Briise\" e \"Manas\"\n",
        "# no método GET /users - all users - é possível visualizar todos os usuários da API cadastrados e atualizados até o momento além de verificar se os usuários recém criados estão na base\n",
        "# cria um arquivo de texto (SDW2023.csv) com os IDs dos 3 usuários criados e salva"
      ],
      "metadata": {
        "id": "h8hPX3YUjPpj"
      },
      "execution_count": null,
      "outputs": []
    },
    {
      "cell_type": "markdown",
      "metadata": {
        "id": "9dfI-o7gLRq9"
      },
      "source": [
        "## **E**xtract\n",
        "\n",
        "Extraia a lista de IDs de usuário a partir do arquivo CSV. Para cada ID, faça uma requisição GET para obter os dados do usuário correspondente."
      ]
    },
    {
      "cell_type": "code",
      "execution_count": null,
      "metadata": {
        "id": "J648v4Ewh0aA"
      },
      "outputs": [],
      "source": [
        "#pip install pandas"
      ]
    },
    {
      "cell_type": "code",
      "source": [
        "#TODO Extrair os IDs do arquivo CSV.\n",
        "#obs: antes, é necessário realizar o upload do arquivo \"SDW23.csv\" para o Colab\n",
        "\n",
        "import pandas as pd\n",
        "\n",
        "df = pd.read_csv('SDW23.csv')\n",
        "user_ids = df['UserID'].tolist()\n",
        "print(user_ids)"
      ],
      "metadata": {
        "colab": {
          "base_uri": "https://localhost:8080/"
        },
        "id": "M9xWhVBYtdPh",
        "outputId": "09ff015f-e459-46d2-a140-a4a48ddf2d24"
      },
      "execution_count": 17,
      "outputs": [
        {
          "output_type": "stream",
          "name": "stdout",
          "text": [
            "[3414, 3415, 3417]\n"
          ]
        }
      ]
    },
    {
      "cell_type": "code",
      "source": [
        "#TODO Obter os dados de cada ID usando a API da Santander Dev Week 2023\n",
        "\n",
        "sdw2023_api_url = 'https://sdw-2023-prd.up.railway.app' #lembrando que será acrescentado \"/users/{id}\" ao final da consulta GET"
      ],
      "metadata": {
        "id": "81KIRbtWtdEa"
      },
      "execution_count": 18,
      "outputs": []
    },
    {
      "cell_type": "code",
      "source": [
        "import requests\n",
        "import json\n",
        "\n",
        "def get_user(id):\n",
        "  response = requests.get(f'{sdw2023_api_url}/users/{id}') # formato similar a resposta na api get. Ex.: https://sdw-2023-prd.up.railway.app/users/3417 sessão get/users/{id} em teste pra um dos ids criados\n",
        "  return response.json() if response.status_code == 200 else None #consultar o status code das possíveis respostas da API está demonstrado no swagger\n",
        "\n",
        "users = [user for id in user_ids if (user := get_user(id)) is not None] #cria uma lista com os users a serem consultados usando list compreenhension e o operador walrus (:=)\n",
        "print(json.dumps(users, indent=2)) #printa (opcional) a lista users formatando o json usando uma indentação 2"
      ],
      "metadata": {
        "colab": {
          "base_uri": "https://localhost:8080/"
        },
        "id": "GqWH2dfkx5n0",
        "outputId": "a43bfe3e-6903-40a4-c025-7d78645ded71"
      },
      "execution_count": 19,
      "outputs": [
        {
          "output_type": "stream",
          "name": "stdout",
          "text": [
            "[\n",
            "  {\n",
            "    \"id\": 3414,\n",
            "    \"name\": \"Dory\",\n",
            "    \"account\": {\n",
            "      \"id\": 3637,\n",
            "      \"number\": \"1221-1\",\n",
            "      \"agency\": \"0001\",\n",
            "      \"balance\": 0.0,\n",
            "      \"limit\": 500.0\n",
            "    },\n",
            "    \"card\": {\n",
            "      \"id\": 3310,\n",
            "      \"number\": \"**** **** **** 1208\",\n",
            "      \"limit\": 2000.0\n",
            "    },\n",
            "    \"features\": [],\n",
            "    \"news\": []\n",
            "  },\n",
            "  {\n",
            "    \"id\": 3415,\n",
            "    \"name\": \"Briise\",\n",
            "    \"account\": {\n",
            "      \"id\": 3638,\n",
            "      \"number\": \"1223-1\",\n",
            "      \"agency\": \"0001\",\n",
            "      \"balance\": 0.0,\n",
            "      \"limit\": 500.0\n",
            "    },\n",
            "    \"card\": {\n",
            "      \"id\": 3311,\n",
            "      \"number\": \"**** **** **** 2312\",\n",
            "      \"limit\": 2000.0\n",
            "    },\n",
            "    \"features\": [],\n",
            "    \"news\": []\n",
            "  },\n",
            "  {\n",
            "    \"id\": 3417,\n",
            "    \"name\": \"Manas\",\n",
            "    \"account\": {\n",
            "      \"id\": 3640,\n",
            "      \"number\": \"1225-1\",\n",
            "      \"agency\": \"0001\",\n",
            "      \"balance\": 0.0,\n",
            "      \"limit\": 500.0\n",
            "    },\n",
            "    \"card\": {\n",
            "      \"id\": 3313,\n",
            "      \"number\": \"**** **** **** 2512\",\n",
            "      \"limit\": 2000.0\n",
            "    },\n",
            "    \"features\": [],\n",
            "    \"news\": []\n",
            "  }\n",
            "]\n"
          ]
        }
      ]
    },
    {
      "cell_type": "code",
      "source": [
        "#caso no csv de consulta seja incluído algum id que não possui cadastro na API a listagem de ids de consulta altera com o numero do id inexistente, porem não retornará resultado correspondente no json print do json da extração."
      ],
      "metadata": {
        "id": "-5C2xliutcxs"
      },
      "execution_count": null,
      "outputs": []
    },
    {
      "cell_type": "markdown",
      "metadata": {
        "id": "cWoqInB4TF1x"
      },
      "source": [
        "## **T**ransform\n",
        "\n",
        "Utilize a API do OpenAI GPT-4 para gerar uma mensagem de marketing personalizada para cada usuário.\n"
      ]
    },
    {
      "cell_type": "code",
      "execution_count": 20,
      "metadata": {
        "id": "O--PCAObTQkK",
        "colab": {
          "base_uri": "https://localhost:8080/"
        },
        "outputId": "1a5ab168-8dd1-4480-d258-4d87a2ad0b93"
      },
      "outputs": [
        {
          "output_type": "stream",
          "name": "stdout",
          "text": [
            "Collecting openai\n",
            "  Downloading openai-0.28.0-py3-none-any.whl (76 kB)\n",
            "\u001b[?25l     \u001b[90m━━━━━━━━━━━━━━━━━━━━━━━━━━━━━━━━━━━━━━━━\u001b[0m \u001b[32m0.0/76.5 kB\u001b[0m \u001b[31m?\u001b[0m eta \u001b[36m-:--:--\u001b[0m\r\u001b[2K     \u001b[90m━━━━━━━━━━━━━━━━━━━━━━━━━━━━━━━━━━━━━━━━\u001b[0m \u001b[32m76.5/76.5 kB\u001b[0m \u001b[31m2.4 MB/s\u001b[0m eta \u001b[36m0:00:00\u001b[0m\n",
            "\u001b[?25hRequirement already satisfied: requests>=2.20 in /usr/local/lib/python3.10/dist-packages (from openai) (2.31.0)\n",
            "Requirement already satisfied: tqdm in /usr/local/lib/python3.10/dist-packages (from openai) (4.66.1)\n",
            "Requirement already satisfied: aiohttp in /usr/local/lib/python3.10/dist-packages (from openai) (3.8.5)\n",
            "Requirement already satisfied: charset-normalizer<4,>=2 in /usr/local/lib/python3.10/dist-packages (from requests>=2.20->openai) (3.2.0)\n",
            "Requirement already satisfied: idna<4,>=2.5 in /usr/local/lib/python3.10/dist-packages (from requests>=2.20->openai) (3.4)\n",
            "Requirement already satisfied: urllib3<3,>=1.21.1 in /usr/local/lib/python3.10/dist-packages (from requests>=2.20->openai) (2.0.4)\n",
            "Requirement already satisfied: certifi>=2017.4.17 in /usr/local/lib/python3.10/dist-packages (from requests>=2.20->openai) (2023.7.22)\n",
            "Requirement already satisfied: attrs>=17.3.0 in /usr/local/lib/python3.10/dist-packages (from aiohttp->openai) (23.1.0)\n",
            "Requirement already satisfied: multidict<7.0,>=4.5 in /usr/local/lib/python3.10/dist-packages (from aiohttp->openai) (6.0.4)\n",
            "Requirement already satisfied: async-timeout<5.0,>=4.0.0a3 in /usr/local/lib/python3.10/dist-packages (from aiohttp->openai) (4.0.3)\n",
            "Requirement already satisfied: yarl<2.0,>=1.0 in /usr/local/lib/python3.10/dist-packages (from aiohttp->openai) (1.9.2)\n",
            "Requirement already satisfied: frozenlist>=1.1.1 in /usr/local/lib/python3.10/dist-packages (from aiohttp->openai) (1.4.0)\n",
            "Requirement already satisfied: aiosignal>=1.1.2 in /usr/local/lib/python3.10/dist-packages (from aiohttp->openai) (1.3.1)\n",
            "Installing collected packages: openai\n",
            "Successfully installed openai-0.28.0\n"
          ]
        }
      ],
      "source": [
        "!pip install openai #instala biblioteca da openAI"
      ]
    },
    {
      "cell_type": "code",
      "execution_count": null,
      "metadata": {
        "id": "sUB1doiDTX3y"
      },
      "outputs": [],
      "source": [
        "# Documentação Oficial da API OpenAI: https://platform.openai.com/docs/api-reference/introduction\n",
        "# Informações sobre o Período Gratuito: https://help.openai.com/en/articles/4936830\n",
        "\n",
        "# Para gerar uma API Key:\n",
        "# 1. Crie uma conta na OpenAI\n",
        "# 2. Acesse a seção \"API Keys\"\n",
        "# 3. Clique em \"Create API Key\"\n",
        "# Link direto: https://platform.openai.com/account/api-keys\n",
        "\n",
        "# Substitua o texto TODO por sua API Key da OpenAI, ela será salva como uma variável de ambiente.\n",
        "openai_api_key = 'TODO'"
      ]
    },
    {
      "cell_type": "code",
      "source": [
        "#TODO implementar a integração com o ChatGPT usando o modelo GPT-3.5\n",
        "#é recomendavel ajustar o texto das roles para conforme a finalidade da campanha\n",
        "#refinar o prompt para deixar bem direcionado ao público com o mínimo de solicitações possíveis (economia)\n",
        "import openai\n",
        "\n",
        "openai.api_key = openai_api_key\n",
        "\n",
        "def generate_ai_news(user): # usar a referencia de código python obtida no link da api, sessão create chat completion, muda a versão do código para python: https://platform.openai.com/docs/api-reference/chat/create\n",
        "  completion = openai.ChatCompletion.create(\n",
        "    model=\"gpt-3.5-turbo\",\n",
        "    messages=[\n",
        "      {\n",
        "          \"role\": \"system\", \"content\": \"Você é um especialista em marketing bancário de investimentos.\"\n",
        "      },\n",
        "      {\n",
        "          \"role\": \"user\", \"content\": f\"Crie uma mensagem utilizando como vocativo o {user['name']} e mencionando sobre a importância dos investimentos (mínimo 50 caracteres e máximo de 100 caracteres)\"\n",
        "      }\n",
        "    ]\n",
        "  )\n",
        "  return completion.choices[0].message.content.strip('\\\"') #retorna a mensagem de retorno do gpt sem aspas\n",
        "\n",
        "#aplica a função de integração com o chat gpt para todo os usuários referenciados no arquivo\n",
        "for user in users:\n",
        "  news = generate_ai_news(user)\n",
        "  print(news)\n",
        "  user['news'].append({\n",
        "      \"icon\": \"https://digitalinnovationone.github.io/santander-dev-week-2023-api/icons/account.svg\",\n",
        "      \"description\": news\n",
        "  })\n"
      ],
      "metadata": {
        "colab": {
          "base_uri": "https://localhost:8080/"
        },
        "id": "MkUlvutdbeM-",
        "outputId": "0f6c3593-d6a5-4412-bc00-f12cf676fd78"
      },
      "execution_count": 33,
      "outputs": [
        {
          "output_type": "stream",
          "name": "stdout",
          "text": [
            "Hey, Dory! Não se esqueça: investir é nadar para um futuro financeiramente seguro. #InvistaComSabedoria\n",
            "Oi, Briise! Não deixe seu dinheiro parado! Invista e conquiste seu futuro financeiro.\n",
            "E aí, Manas! Você já pensou na importância dos investimentos? Seu futuro financeiro agradece! 💰💪📈\n"
          ]
        }
      ]
    },
    {
      "cell_type": "markdown",
      "metadata": {
        "id": "kNuP0SDUZMBY"
      },
      "source": [
        "## **L**oad\n",
        "\n",
        "Atualize a lista de \"news\" de cada usuário na API com a nova mensagem gerada."
      ]
    },
    {
      "cell_type": "code",
      "source": [
        "#TODO Atualizar os usuários na API da Santander Dev Week 2023 com os dados enriquecidos\n",
        "# utilizando a API disponibilizada, opção PUT (update user)\n",
        "\n",
        "def update_user(user):\n",
        "  response = requests.put(f\"{sdw2023_api_url}/users/{user['id']}\", json=user)\n",
        "  return True if response.status_code == 200 else False\n",
        "\n",
        "for user in users:\n",
        "  success = update_user(user)\n",
        "  print(f\"{user['name']} updated? {success}!\")"
      ],
      "metadata": {
        "colab": {
          "base_uri": "https://localhost:8080/"
        },
        "id": "59KhEmjitE7D",
        "outputId": "2aa38e61-1fd6-4279-889f-e332852080d6"
      },
      "execution_count": 35,
      "outputs": [
        {
          "output_type": "stream",
          "name": "stdout",
          "text": [
            "Dory updated? True!\n",
            "Briise updated? True!\n",
            "Manas updated? True!\n"
          ]
        }
      ]
    },
    {
      "cell_type": "code",
      "source": [
        "#conferindo o que foi atualizado\n",
        "print(users)"
      ],
      "metadata": {
        "colab": {
          "base_uri": "https://localhost:8080/"
        },
        "id": "THZb2zdWtGXp",
        "outputId": "34363107-0264-4ae7-dd3a-ff70adcadf4f"
      },
      "execution_count": 41,
      "outputs": [
        {
          "output_type": "stream",
          "name": "stdout",
          "text": [
            "[{'id': 3414, 'name': 'Dory', 'account': {'id': 3637, 'number': '1221-1', 'agency': '0001', 'balance': 0.0, 'limit': 500.0}, 'card': {'id': 3310, 'number': '**** **** **** 1208', 'limit': 2000.0}, 'features': [], 'news': [{'icon': 'https://digitalinnovationone.github.io/santander-dev-week-2023-api/icons/account.svg', 'description': 'Hey, Dory! Não esqueça: investir é tão importante quanto nadar! 🐠💰'}, {'icon': 'https://digitalinnovationone.github.io/santander-dev-week-2023-api/icons/account.svg', 'description': 'Hey, Dory! Não se esqueça: investir é nadar para um futuro financeiramente seguro. #InvistaComSabedoria'}]}, {'id': 3415, 'name': 'Briise', 'account': {'id': 3638, 'number': '1223-1', 'agency': '0001', 'balance': 0.0, 'limit': 500.0}, 'card': {'id': 3311, 'number': '**** **** **** 2312', 'limit': 2000.0}, 'features': [], 'news': [{'icon': 'https://digitalinnovationone.github.io/santander-dev-week-2023-api/icons/account.svg', 'description': 'Olá, Briise! Descubra como os investimentos podem transformar seus sonhos em realidade. Não deixe seu dinheiro parado, faça-o trabalhar por você!'}, {'icon': 'https://digitalinnovationone.github.io/santander-dev-week-2023-api/icons/account.svg', 'description': 'Oi, Briise! Não deixe seu dinheiro parado! Invista e conquiste seu futuro financeiro.'}]}, {'id': 3417, 'name': 'Manas', 'account': {'id': 3640, 'number': '1225-1', 'agency': '0001', 'balance': 0.0, 'limit': 500.0}, 'card': {'id': 3313, 'number': '**** **** **** 2512', 'limit': 2000.0}, 'features': [], 'news': [{'icon': 'https://digitalinnovationone.github.io/santander-dev-week-2023-api/icons/account.svg', 'description': 'E aí, Manas! Não deixe de investir, seu futuro agradece! 💰💪🏼 #InvestimentosImportantes'}, {'icon': 'https://digitalinnovationone.github.io/santander-dev-week-2023-api/icons/account.svg', 'description': 'E aí, Manas! Você já pensou na importância dos investimentos? Seu futuro financeiro agradece! 💰💪📈'}]}]\n"
          ]
        }
      ]
    }
  ],
  "metadata": {
    "colab": {
      "provenance": []
    },
    "kernelspec": {
      "display_name": "Python 3",
      "name": "python3"
    },
    "language_info": {
      "codemirror_mode": {
        "name": "ipython",
        "version": 3
      },
      "file_extension": ".py",
      "mimetype": "text/x-python",
      "name": "python",
      "nbconvert_exporter": "python",
      "pygments_lexer": "ipython3",
      "version": "3.11.0"
    }
  },
  "nbformat": 4,
  "nbformat_minor": 0
}